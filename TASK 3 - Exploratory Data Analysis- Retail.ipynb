{
 "cells": [
  {
   "cell_type": "markdown",
   "id": "84ad4755",
   "metadata": {},
   "source": [
    "# <center>The Sparks Foundation - Data Science & Business Analytics Internship</center>"
   ]
  },
  {
   "cell_type": "markdown",
   "id": "30a19ca2",
   "metadata": {},
   "source": [
    "## TASK 3 - Exploratory Data Analysis- Retail\n",
    "In this task it is required to perform Exploratory Data Analysis on dataset 'SampleSuperstore and find weak areas where we can work to make more profits.\n",
    "\n",
    "### Steps:\n",
    "\n",
    "- Step 1 - Importing the necessary libraries for the task.\n",
    "- Step 2 - Data Visualization\n",
    "- Step 3 - Insights using stats\n",
    "\n",
    "Code By : Rikin Patel\n",
    "#### Dataset : https://bit.ly/3i4rbWl\n",
    "#### Linkedin : https://www.linkedin.com/in/rikin-patel-700921238/\n",
    "#### Github :https://github.com/rknptl/TSF-Internship"
   ]
  },
  {
   "cell_type": "markdown",
   "id": "2c6368d3",
   "metadata": {},
   "source": [
    "## Importing the necessary libraries for the task :\n",
    "    "
   ]
  },
  {
   "cell_type": "code",
   "execution_count": 1,
   "id": "00041c9b",
   "metadata": {},
   "outputs": [],
   "source": [
    "import pandas as pd\n",
    "import numpy as np\n",
    "import matplotlib.pyplot as plt\n",
    "import seaborn as sns\n",
    "%matplotlib inline\n",
    "plt.rcParams['axes.spines.top'] = False\n",
    "plt.rcParams['axes.spines.right'] = False"
   ]
  },
  {
   "cell_type": "code",
   "execution_count": 51,
   "id": "1fd46819",
   "metadata": {},
   "outputs": [],
   "source": [
    "import warnings\n",
    "warnings.filterwarnings('ignore')"
   ]
  },
  {
   "cell_type": "code",
   "execution_count": 2,
   "id": "83989161",
   "metadata": {},
   "outputs": [
    {
     "data": {
      "text/html": [
       "<div>\n",
       "<style scoped>\n",
       "    .dataframe tbody tr th:only-of-type {\n",
       "        vertical-align: middle;\n",
       "    }\n",
       "\n",
       "    .dataframe tbody tr th {\n",
       "        vertical-align: top;\n",
       "    }\n",
       "\n",
       "    .dataframe thead th {\n",
       "        text-align: right;\n",
       "    }\n",
       "</style>\n",
       "<table border=\"1\" class=\"dataframe\">\n",
       "  <thead>\n",
       "    <tr style=\"text-align: right;\">\n",
       "      <th></th>\n",
       "      <th>Ship Mode</th>\n",
       "      <th>Segment</th>\n",
       "      <th>Country</th>\n",
       "      <th>City</th>\n",
       "      <th>State</th>\n",
       "      <th>Postal Code</th>\n",
       "      <th>Region</th>\n",
       "      <th>Category</th>\n",
       "      <th>Sub-Category</th>\n",
       "      <th>Sales</th>\n",
       "      <th>Quantity</th>\n",
       "      <th>Discount</th>\n",
       "      <th>Profit</th>\n",
       "    </tr>\n",
       "  </thead>\n",
       "  <tbody>\n",
       "    <tr>\n",
       "      <th>0</th>\n",
       "      <td>Second Class</td>\n",
       "      <td>Consumer</td>\n",
       "      <td>United States</td>\n",
       "      <td>Henderson</td>\n",
       "      <td>Kentucky</td>\n",
       "      <td>42420</td>\n",
       "      <td>South</td>\n",
       "      <td>Furniture</td>\n",
       "      <td>Bookcases</td>\n",
       "      <td>261.96</td>\n",
       "      <td>2</td>\n",
       "      <td>0.0</td>\n",
       "      <td>41.9136</td>\n",
       "    </tr>\n",
       "    <tr>\n",
       "      <th>1</th>\n",
       "      <td>Second Class</td>\n",
       "      <td>Consumer</td>\n",
       "      <td>United States</td>\n",
       "      <td>Henderson</td>\n",
       "      <td>Kentucky</td>\n",
       "      <td>42420</td>\n",
       "      <td>South</td>\n",
       "      <td>Furniture</td>\n",
       "      <td>Chairs</td>\n",
       "      <td>731.94</td>\n",
       "      <td>3</td>\n",
       "      <td>0.0</td>\n",
       "      <td>219.5820</td>\n",
       "    </tr>\n",
       "    <tr>\n",
       "      <th>2</th>\n",
       "      <td>Second Class</td>\n",
       "      <td>Corporate</td>\n",
       "      <td>United States</td>\n",
       "      <td>Los Angeles</td>\n",
       "      <td>California</td>\n",
       "      <td>90036</td>\n",
       "      <td>West</td>\n",
       "      <td>Office Supplies</td>\n",
       "      <td>Labels</td>\n",
       "      <td>14.62</td>\n",
       "      <td>2</td>\n",
       "      <td>0.0</td>\n",
       "      <td>6.8714</td>\n",
       "    </tr>\n",
       "  </tbody>\n",
       "</table>\n",
       "</div>"
      ],
      "text/plain": [
       "      Ship Mode    Segment        Country         City       State  \\\n",
       "0  Second Class   Consumer  United States    Henderson    Kentucky   \n",
       "1  Second Class   Consumer  United States    Henderson    Kentucky   \n",
       "2  Second Class  Corporate  United States  Los Angeles  California   \n",
       "\n",
       "   Postal Code Region         Category Sub-Category   Sales  Quantity  \\\n",
       "0        42420  South        Furniture    Bookcases  261.96         2   \n",
       "1        42420  South        Furniture       Chairs  731.94         3   \n",
       "2        90036   West  Office Supplies       Labels   14.62         2   \n",
       "\n",
       "   Discount    Profit  \n",
       "0       0.0   41.9136  \n",
       "1       0.0  219.5820  \n",
       "2       0.0    6.8714  "
      ]
     },
     "execution_count": 2,
     "metadata": {},
     "output_type": "execute_result"
    }
   ],
   "source": [
    "data = pd.read_csv('SampleSuperstore.csv')\n",
    "data.head(3)"
   ]
  },
  {
   "cell_type": "code",
   "execution_count": 3,
   "id": "57b6a0b7",
   "metadata": {},
   "outputs": [
    {
     "data": {
      "text/plain": [
       "(9994, 13)"
      ]
     },
     "execution_count": 3,
     "metadata": {},
     "output_type": "execute_result"
    }
   ],
   "source": [
    "data.shape #the dataset has 9993 rows and 13 columns"
   ]
  },
  {
   "cell_type": "code",
   "execution_count": 4,
   "id": "9770a85f",
   "metadata": {},
   "outputs": [
    {
     "data": {
      "text/html": [
       "<div>\n",
       "<style scoped>\n",
       "    .dataframe tbody tr th:only-of-type {\n",
       "        vertical-align: middle;\n",
       "    }\n",
       "\n",
       "    .dataframe tbody tr th {\n",
       "        vertical-align: top;\n",
       "    }\n",
       "\n",
       "    .dataframe thead th {\n",
       "        text-align: right;\n",
       "    }\n",
       "</style>\n",
       "<table border=\"1\" class=\"dataframe\">\n",
       "  <thead>\n",
       "    <tr style=\"text-align: right;\">\n",
       "      <th></th>\n",
       "      <th>Postal Code</th>\n",
       "      <th>Sales</th>\n",
       "      <th>Quantity</th>\n",
       "      <th>Discount</th>\n",
       "      <th>Profit</th>\n",
       "    </tr>\n",
       "  </thead>\n",
       "  <tbody>\n",
       "    <tr>\n",
       "      <th>count</th>\n",
       "      <td>9994.000000</td>\n",
       "      <td>9994.000000</td>\n",
       "      <td>9994.000000</td>\n",
       "      <td>9994.000000</td>\n",
       "      <td>9994.000000</td>\n",
       "    </tr>\n",
       "    <tr>\n",
       "      <th>mean</th>\n",
       "      <td>55190.379428</td>\n",
       "      <td>229.858001</td>\n",
       "      <td>3.789574</td>\n",
       "      <td>0.156203</td>\n",
       "      <td>28.656896</td>\n",
       "    </tr>\n",
       "    <tr>\n",
       "      <th>std</th>\n",
       "      <td>32063.693350</td>\n",
       "      <td>623.245101</td>\n",
       "      <td>2.225110</td>\n",
       "      <td>0.206452</td>\n",
       "      <td>234.260108</td>\n",
       "    </tr>\n",
       "    <tr>\n",
       "      <th>min</th>\n",
       "      <td>1040.000000</td>\n",
       "      <td>0.444000</td>\n",
       "      <td>1.000000</td>\n",
       "      <td>0.000000</td>\n",
       "      <td>-6599.978000</td>\n",
       "    </tr>\n",
       "    <tr>\n",
       "      <th>25%</th>\n",
       "      <td>23223.000000</td>\n",
       "      <td>17.280000</td>\n",
       "      <td>2.000000</td>\n",
       "      <td>0.000000</td>\n",
       "      <td>1.728750</td>\n",
       "    </tr>\n",
       "    <tr>\n",
       "      <th>50%</th>\n",
       "      <td>56430.500000</td>\n",
       "      <td>54.490000</td>\n",
       "      <td>3.000000</td>\n",
       "      <td>0.200000</td>\n",
       "      <td>8.666500</td>\n",
       "    </tr>\n",
       "    <tr>\n",
       "      <th>75%</th>\n",
       "      <td>90008.000000</td>\n",
       "      <td>209.940000</td>\n",
       "      <td>5.000000</td>\n",
       "      <td>0.200000</td>\n",
       "      <td>29.364000</td>\n",
       "    </tr>\n",
       "    <tr>\n",
       "      <th>max</th>\n",
       "      <td>99301.000000</td>\n",
       "      <td>22638.480000</td>\n",
       "      <td>14.000000</td>\n",
       "      <td>0.800000</td>\n",
       "      <td>8399.976000</td>\n",
       "    </tr>\n",
       "  </tbody>\n",
       "</table>\n",
       "</div>"
      ],
      "text/plain": [
       "        Postal Code         Sales     Quantity     Discount       Profit\n",
       "count   9994.000000   9994.000000  9994.000000  9994.000000  9994.000000\n",
       "mean   55190.379428    229.858001     3.789574     0.156203    28.656896\n",
       "std    32063.693350    623.245101     2.225110     0.206452   234.260108\n",
       "min     1040.000000      0.444000     1.000000     0.000000 -6599.978000\n",
       "25%    23223.000000     17.280000     2.000000     0.000000     1.728750\n",
       "50%    56430.500000     54.490000     3.000000     0.200000     8.666500\n",
       "75%    90008.000000    209.940000     5.000000     0.200000    29.364000\n",
       "max    99301.000000  22638.480000    14.000000     0.800000  8399.976000"
      ]
     },
     "execution_count": 4,
     "metadata": {},
     "output_type": "execute_result"
    }
   ],
   "source": [
    "data.describe()"
   ]
  },
  {
   "cell_type": "code",
   "execution_count": 5,
   "id": "82ba92d4",
   "metadata": {},
   "outputs": [
    {
     "name": "stdout",
     "output_type": "stream",
     "text": [
      "<class 'pandas.core.frame.DataFrame'>\n",
      "RangeIndex: 9994 entries, 0 to 9993\n",
      "Data columns (total 13 columns):\n",
      " #   Column        Non-Null Count  Dtype  \n",
      "---  ------        --------------  -----  \n",
      " 0   Ship Mode     9994 non-null   object \n",
      " 1   Segment       9994 non-null   object \n",
      " 2   Country       9994 non-null   object \n",
      " 3   City          9994 non-null   object \n",
      " 4   State         9994 non-null   object \n",
      " 5   Postal Code   9994 non-null   int64  \n",
      " 6   Region        9994 non-null   object \n",
      " 7   Category      9994 non-null   object \n",
      " 8   Sub-Category  9994 non-null   object \n",
      " 9   Sales         9994 non-null   float64\n",
      " 10  Quantity      9994 non-null   int64  \n",
      " 11  Discount      9994 non-null   float64\n",
      " 12  Profit        9994 non-null   float64\n",
      "dtypes: float64(3), int64(2), object(8)\n",
      "memory usage: 1015.1+ KB\n"
     ]
    }
   ],
   "source": [
    "data.info() # the output shows that the dataset has no null values"
   ]
  },
  {
   "cell_type": "code",
   "execution_count": 6,
   "id": "acda089f",
   "metadata": {},
   "outputs": [
    {
     "data": {
      "text/plain": [
       "17"
      ]
     },
     "execution_count": 6,
     "metadata": {},
     "output_type": "execute_result"
    }
   ],
   "source": [
    "data.duplicated().sum()"
   ]
  },
  {
   "cell_type": "code",
   "execution_count": 7,
   "id": "c7711494",
   "metadata": {},
   "outputs": [
    {
     "data": {
      "text/plain": [
       "0"
      ]
     },
     "execution_count": 7,
     "metadata": {},
     "output_type": "execute_result"
    }
   ],
   "source": [
    "data = data.drop_duplicates()\n",
    "data.duplicated().sum()"
   ]
  },
  {
   "cell_type": "code",
   "execution_count": 8,
   "id": "56bd420d",
   "metadata": {},
   "outputs": [
    {
     "data": {
      "text/plain": [
       "Ship Mode          4\n",
       "Segment            3\n",
       "Country            1\n",
       "City             531\n",
       "State             49\n",
       "Postal Code      631\n",
       "Region             4\n",
       "Category           3\n",
       "Sub-Category      17\n",
       "Sales           5825\n",
       "Quantity          14\n",
       "Discount          12\n",
       "Profit          7287\n",
       "dtype: int64"
      ]
     },
     "execution_count": 8,
     "metadata": {},
     "output_type": "execute_result"
    }
   ],
   "source": [
    "data.nunique()"
   ]
  },
  {
   "cell_type": "code",
   "execution_count": 9,
   "id": "76ca5570",
   "metadata": {},
   "outputs": [
    {
     "data": {
      "text/html": [
       "<div>\n",
       "<style scoped>\n",
       "    .dataframe tbody tr th:only-of-type {\n",
       "        vertical-align: middle;\n",
       "    }\n",
       "\n",
       "    .dataframe tbody tr th {\n",
       "        vertical-align: top;\n",
       "    }\n",
       "\n",
       "    .dataframe thead th {\n",
       "        text-align: right;\n",
       "    }\n",
       "</style>\n",
       "<table border=\"1\" class=\"dataframe\">\n",
       "  <thead>\n",
       "    <tr style=\"text-align: right;\">\n",
       "      <th></th>\n",
       "      <th>Postal Code</th>\n",
       "      <th>Sales</th>\n",
       "      <th>Quantity</th>\n",
       "      <th>Discount</th>\n",
       "      <th>Profit</th>\n",
       "    </tr>\n",
       "  </thead>\n",
       "  <tbody>\n",
       "    <tr>\n",
       "      <th>Postal Code</th>\n",
       "      <td>1.000000</td>\n",
       "      <td>-0.023476</td>\n",
       "      <td>0.013110</td>\n",
       "      <td>0.059225</td>\n",
       "      <td>-0.029892</td>\n",
       "    </tr>\n",
       "    <tr>\n",
       "      <th>Sales</th>\n",
       "      <td>-0.023476</td>\n",
       "      <td>1.000000</td>\n",
       "      <td>0.200722</td>\n",
       "      <td>-0.028311</td>\n",
       "      <td>0.479067</td>\n",
       "    </tr>\n",
       "    <tr>\n",
       "      <th>Quantity</th>\n",
       "      <td>0.013110</td>\n",
       "      <td>0.200722</td>\n",
       "      <td>1.000000</td>\n",
       "      <td>0.008678</td>\n",
       "      <td>0.066211</td>\n",
       "    </tr>\n",
       "    <tr>\n",
       "      <th>Discount</th>\n",
       "      <td>0.059225</td>\n",
       "      <td>-0.028311</td>\n",
       "      <td>0.008678</td>\n",
       "      <td>1.000000</td>\n",
       "      <td>-0.219662</td>\n",
       "    </tr>\n",
       "    <tr>\n",
       "      <th>Profit</th>\n",
       "      <td>-0.029892</td>\n",
       "      <td>0.479067</td>\n",
       "      <td>0.066211</td>\n",
       "      <td>-0.219662</td>\n",
       "      <td>1.000000</td>\n",
       "    </tr>\n",
       "  </tbody>\n",
       "</table>\n",
       "</div>"
      ],
      "text/plain": [
       "             Postal Code     Sales  Quantity  Discount    Profit\n",
       "Postal Code     1.000000 -0.023476  0.013110  0.059225 -0.029892\n",
       "Sales          -0.023476  1.000000  0.200722 -0.028311  0.479067\n",
       "Quantity        0.013110  0.200722  1.000000  0.008678  0.066211\n",
       "Discount        0.059225 -0.028311  0.008678  1.000000 -0.219662\n",
       "Profit         -0.029892  0.479067  0.066211 -0.219662  1.000000"
      ]
     },
     "execution_count": 9,
     "metadata": {},
     "output_type": "execute_result"
    }
   ],
   "source": [
    "data.corr()"
   ]
  },
  {
   "cell_type": "code",
   "execution_count": 10,
   "id": "e8fda85e",
   "metadata": {},
   "outputs": [
    {
     "data": {
      "text/html": [
       "<div>\n",
       "<style scoped>\n",
       "    .dataframe tbody tr th:only-of-type {\n",
       "        vertical-align: middle;\n",
       "    }\n",
       "\n",
       "    .dataframe tbody tr th {\n",
       "        vertical-align: top;\n",
       "    }\n",
       "\n",
       "    .dataframe thead th {\n",
       "        text-align: right;\n",
       "    }\n",
       "</style>\n",
       "<table border=\"1\" class=\"dataframe\">\n",
       "  <thead>\n",
       "    <tr style=\"text-align: right;\">\n",
       "      <th></th>\n",
       "      <th>Postal Code</th>\n",
       "      <th>Sales</th>\n",
       "      <th>Quantity</th>\n",
       "      <th>Discount</th>\n",
       "      <th>Profit</th>\n",
       "    </tr>\n",
       "  </thead>\n",
       "  <tbody>\n",
       "    <tr>\n",
       "      <th>Postal Code</th>\n",
       "      <td>1.027732e+09</td>\n",
       "      <td>-469412.768497</td>\n",
       "      <td>935.818272</td>\n",
       "      <td>391.989291</td>\n",
       "      <td>-224679.858643</td>\n",
       "    </tr>\n",
       "    <tr>\n",
       "      <th>Sales</th>\n",
       "      <td>-4.694128e+05</td>\n",
       "      <td>389028.396022</td>\n",
       "      <td>278.765576</td>\n",
       "      <td>-3.645637</td>\n",
       "      <td>70057.067126</td>\n",
       "    </tr>\n",
       "    <tr>\n",
       "      <th>Quantity</th>\n",
       "      <td>9.358183e+02</td>\n",
       "      <td>278.765576</td>\n",
       "      <td>4.958001</td>\n",
       "      <td>0.003990</td>\n",
       "      <td>34.565743</td>\n",
       "    </tr>\n",
       "    <tr>\n",
       "      <th>Discount</th>\n",
       "      <td>3.919893e+02</td>\n",
       "      <td>-3.645637</td>\n",
       "      <td>0.003990</td>\n",
       "      <td>0.042624</td>\n",
       "      <td>-10.632751</td>\n",
       "    </tr>\n",
       "    <tr>\n",
       "      <th>Profit</th>\n",
       "      <td>-2.246799e+05</td>\n",
       "      <td>70057.067126</td>\n",
       "      <td>34.565743</td>\n",
       "      <td>-10.632751</td>\n",
       "      <td>54970.478824</td>\n",
       "    </tr>\n",
       "  </tbody>\n",
       "</table>\n",
       "</div>"
      ],
      "text/plain": [
       "              Postal Code          Sales    Quantity    Discount  \\\n",
       "Postal Code  1.027732e+09 -469412.768497  935.818272  391.989291   \n",
       "Sales       -4.694128e+05  389028.396022  278.765576   -3.645637   \n",
       "Quantity     9.358183e+02     278.765576    4.958001    0.003990   \n",
       "Discount     3.919893e+02      -3.645637    0.003990    0.042624   \n",
       "Profit      -2.246799e+05   70057.067126   34.565743  -10.632751   \n",
       "\n",
       "                    Profit  \n",
       "Postal Code -224679.858643  \n",
       "Sales         70057.067126  \n",
       "Quantity         34.565743  \n",
       "Discount        -10.632751  \n",
       "Profit        54970.478824  "
      ]
     },
     "execution_count": 10,
     "metadata": {},
     "output_type": "execute_result"
    }
   ],
   "source": [
    "data.cov()"
   ]
  },
  {
   "cell_type": "markdown",
   "id": "5a07af5c",
   "metadata": {},
   "source": [
    "# Data visualization :\n",
    "***"
   ]
  },
  {
   "cell_type": "code",
   "execution_count": 11,
   "id": "5791a69b",
   "metadata": {},
   "outputs": [
    {
     "data": {
      "image/png": "[encoded data removed]",
      "text/plain": [
       "<Figure size 900x900 with 30 Axes>"
      ]
     },
     "metadata": {
      "needs_background": "light"
     },
     "output_type": "display_data"
    }
   ],
   "source": [
    "sns.pairplot(data);"
   ]
  },
  {
   "cell_type": "code",
   "execution_count": 12,
   "id": "efa27460",
   "metadata": {},
   "outputs": [
    {
     "data": {
      "image/png": "[encoded data removed]",
      "text/plain": [
       "<Figure size 1728x864 with 2 Axes>"
      ]
     },
     "metadata": {
      "needs_background": "light"
     },
     "output_type": "display_data"
    }
   ],
   "source": [
    "fig, axes = plt.subplots (1, 1, figsize = (24,12))\n",
    "sns.heatmap(data.corr(), annot=True, cmap='inferno')\n",
    "plt.show()"
   ]
  },
  {
   "cell_type": "code",
   "execution_count": 52,
   "id": "17f325be",
   "metadata": {},
   "outputs": [
    {
     "data": {
      "image/png": "[encoded data removed]",
      "text/plain": [
       "<Figure size 1728x864 with 2 Axes>"
      ]
     },
     "metadata": {
      "needs_background": "light"
     },
     "output_type": "display_data"
    }
   ],
   "source": [
    "fig, axes = plt.subplots(1, 2, figsize=(24,12))\n",
    "data.groupby('Sub-Category')['Sales','Profit'].agg(sum).plot(kind='bar',ax=axes[0]).set_title('Quantity & Profit Relation based on Sub-Category')\n",
    "data.groupby('Sub-Category')['Quantity','Profit'].agg(sum).plot(kind='bar',ax=axes[1]).set_title('Discount & Profit Relation based on Sub-Category')\n",
    "plt.xticks(rotation=90)\n",
    "plt.show()"
   ]
  },
  {
   "cell_type": "code",
   "execution_count": 53,
   "id": "44cfbdef",
   "metadata": {},
   "outputs": [
    {
     "data": {
      "text/plain": [
       "<seaborn.axisgrid.FacetGrid at 0x22b0701e820>"
      ]
     },
     "execution_count": 53,
     "metadata": {},
     "output_type": "execute_result"
    },
    {
     "data": {
      "text/plain": [
       "<Figure size 1080x576 with 0 Axes>"
      ]
     },
     "metadata": {},
     "output_type": "display_data"
    },
    {
     "data": {
      "image/png": "[encoded data removed]",
      "text/plain": [
       "<Figure size 637.875x360 with 1 Axes>"
      ]
     },
     "metadata": {
      "needs_background": "light"
     },
     "output_type": "display_data"
    }
   ],
   "source": [
    "# Segment wise count of the shipment modes\n",
    "\n",
    "plt.figure(figsize=(15,8))\n",
    "sns.catplot(\"Ship Mode\", hue=\"Segment\", data=data, kind=\"count\", aspect=1.5, palette=\"Set1\")"
   ]
  },
  {
   "cell_type": "code",
   "execution_count": 15,
   "id": "7aefa158",
   "metadata": {},
   "outputs": [
    {
     "data": {
      "text/plain": [
       "<AxesSubplot:xlabel='Region', ylabel='Sales'>"
      ]
     },
     "execution_count": 15,
     "metadata": {},
     "output_type": "execute_result"
    },
    {
     "data": {
      "image/png": "[encoded data removed]",
      "text/plain": [
       "<Figure size 1080x576 with 1 Axes>"
      ]
     },
     "metadata": {
      "needs_background": "light"
     },
     "output_type": "display_data"
    }
   ],
   "source": [
    "# Segment wise sales in each region\n",
    "\n",
    "plt.figure(figsize=(15,8))\n",
    "sns.barplot(x=\"Region\", y=\"Sales\", hue=\"Segment\", data=data, palette=\"Set1\")"
   ]
  },
  {
   "cell_type": "code",
   "execution_count": 18,
   "id": "e9e56ea4",
   "metadata": {},
   "outputs": [
    {
     "data": {
      "image/png": "[encoded data removed]",
      "text/plain": [
       "<Figure size 1080x360 with 1 Axes>"
      ]
     },
     "metadata": {
      "needs_background": "light"
     },
     "output_type": "display_data"
    }
   ],
   "source": [
    "# Sub-category vs Sales\n",
    "\n",
    "plt.figure(figsize = (15,5))\n",
    "sns.barplot(x=\"Sub-Category\", y=\"Sales\", data=data)\n",
    "plt.title('Sub-Category vs Sales', size=15)\n",
    "ax = plt.xticks(rotation=45)"
   ]
  },
  {
   "cell_type": "code",
   "execution_count": 19,
   "id": "a32f66c5",
   "metadata": {},
   "outputs": [
    {
     "data": {
      "text/plain": [
       "Text(0, 0.5, 'Sales')"
      ]
     },
     "execution_count": 19,
     "metadata": {},
     "output_type": "execute_result"
    },
    {
     "data": {
      "image/png": "[encoded data removed]",
      "text/plain": [
       "<Figure size 1080x576 with 1 Axes>"
      ]
     },
     "metadata": {
      "needs_background": "light"
     },
     "output_type": "display_data"
    }
   ],
   "source": [
    "tech_df = data[(data['Category']==\"Technology\")]\n",
    "\n",
    "# Sales of each Subcategory under Technology\n",
    "\n",
    "plt.figure(figsize=[15,8])\n",
    "sns.barplot(x=\"Sub-Category\", y=\"Sales\", data=tech_df, palette=\"magma\")\n",
    "plt.xlabel(\"Subcategories\",fontsize=15)\n",
    "plt.ylabel(\"Sales\",fontsize=15)"
   ]
  },
  {
   "cell_type": "markdown",
   "id": "adc560bd",
   "metadata": {},
   "source": [
    "## Insights using stats"
   ]
  },
  {
   "cell_type": "code",
   "execution_count": 23,
   "id": "bba51aec",
   "metadata": {},
   "outputs": [
    {
     "data": {
      "text/html": [
       "<div>\n",
       "<style scoped>\n",
       "    .dataframe tbody tr th:only-of-type {\n",
       "        vertical-align: middle;\n",
       "    }\n",
       "\n",
       "    .dataframe tbody tr th {\n",
       "        vertical-align: top;\n",
       "    }\n",
       "\n",
       "    .dataframe thead th {\n",
       "        text-align: right;\n",
       "    }\n",
       "</style>\n",
       "<table border=\"1\" class=\"dataframe\">\n",
       "  <thead>\n",
       "    <tr style=\"text-align: right;\">\n",
       "      <th></th>\n",
       "      <th>City</th>\n",
       "      <th>Sales</th>\n",
       "    </tr>\n",
       "  </thead>\n",
       "  <tbody>\n",
       "    <tr>\n",
       "      <th>0</th>\n",
       "      <td>New York City</td>\n",
       "      <td>256319.041</td>\n",
       "    </tr>\n",
       "    <tr>\n",
       "      <th>1</th>\n",
       "      <td>Los Angeles</td>\n",
       "      <td>175831.901</td>\n",
       "    </tr>\n",
       "    <tr>\n",
       "      <th>2</th>\n",
       "      <td>Seattle</td>\n",
       "      <td>119460.282</td>\n",
       "    </tr>\n",
       "    <tr>\n",
       "      <th>3</th>\n",
       "      <td>San Francisco</td>\n",
       "      <td>112577.172</td>\n",
       "    </tr>\n",
       "    <tr>\n",
       "      <th>4</th>\n",
       "      <td>Philadelphia</td>\n",
       "      <td>109061.461</td>\n",
       "    </tr>\n",
       "  </tbody>\n",
       "</table>\n",
       "</div>"
      ],
      "text/plain": [
       "            City       Sales\n",
       "0  New York City  256319.041\n",
       "1    Los Angeles  175831.901\n",
       "2        Seattle  119460.282\n",
       "3  San Francisco  112577.172\n",
       "4   Philadelphia  109061.461"
      ]
     },
     "execution_count": 23,
     "metadata": {},
     "output_type": "execute_result"
    }
   ],
   "source": [
    "grouped = data.groupby(\"City\")\n",
    "\n",
    "# Aggregated Sales per city\n",
    "agg_sales=grouped['Sales'].agg(np.sum).sort_values(ascending=False).reset_index()\n",
    "\n",
    "# Cities with highest total sales\n",
    "agg_sales.head()"
   ]
  },
  {
   "cell_type": "markdown",
   "id": "34fdd09f",
   "metadata": {},
   "source": [
    "### New York City has the most sales followed by Los Angeles and Seattle."
   ]
  },
  {
   "cell_type": "code",
   "execution_count": 25,
   "id": "007fbe13",
   "metadata": {},
   "outputs": [
    {
     "data": {
      "text/html": [
       "<div>\n",
       "<style scoped>\n",
       "    .dataframe tbody tr th:only-of-type {\n",
       "        vertical-align: middle;\n",
       "    }\n",
       "\n",
       "    .dataframe tbody tr th {\n",
       "        vertical-align: top;\n",
       "    }\n",
       "\n",
       "    .dataframe thead th {\n",
       "        text-align: right;\n",
       "    }\n",
       "</style>\n",
       "<table border=\"1\" class=\"dataframe\">\n",
       "  <thead>\n",
       "    <tr style=\"text-align: right;\">\n",
       "      <th></th>\n",
       "      <th>City</th>\n",
       "      <th>Profit</th>\n",
       "    </tr>\n",
       "  </thead>\n",
       "  <tbody>\n",
       "    <tr>\n",
       "      <th>0</th>\n",
       "      <td>New York City</td>\n",
       "      <td>62013.8973</td>\n",
       "    </tr>\n",
       "    <tr>\n",
       "      <th>1</th>\n",
       "      <td>Los Angeles</td>\n",
       "      <td>30431.4267</td>\n",
       "    </tr>\n",
       "    <tr>\n",
       "      <th>2</th>\n",
       "      <td>Seattle</td>\n",
       "      <td>29121.6825</td>\n",
       "    </tr>\n",
       "    <tr>\n",
       "      <th>3</th>\n",
       "      <td>San Francisco</td>\n",
       "      <td>17466.1186</td>\n",
       "    </tr>\n",
       "    <tr>\n",
       "      <th>4</th>\n",
       "      <td>Detroit</td>\n",
       "      <td>13146.6935</td>\n",
       "    </tr>\n",
       "  </tbody>\n",
       "</table>\n",
       "</div>"
      ],
      "text/plain": [
       "            City      Profit\n",
       "0  New York City  62013.8973\n",
       "1    Los Angeles  30431.4267\n",
       "2        Seattle  29121.6825\n",
       "3  San Francisco  17466.1186\n",
       "4        Detroit  13146.6935"
      ]
     },
     "execution_count": 25,
     "metadata": {},
     "output_type": "execute_result"
    }
   ],
   "source": [
    "# Aggregated Profit per city\n",
    "agg_profit=grouped['Profit'].agg(np.sum).sort_values(ascending=False).reset_index()\n",
    "\n",
    "# Cities with Highest total Profit\n",
    "agg_profit.head()"
   ]
  },
  {
   "cell_type": "markdown",
   "id": "05670e27",
   "metadata": {},
   "source": [
    "### Similarly most profit is earned from New York City followed by Los Angeles and Seattle."
   ]
  },
  {
   "cell_type": "code",
   "execution_count": 26,
   "id": "f57306e8",
   "metadata": {},
   "outputs": [
    {
     "data": {
      "text/html": [
       "<div>\n",
       "<style scoped>\n",
       "    .dataframe tbody tr th:only-of-type {\n",
       "        vertical-align: middle;\n",
       "    }\n",
       "\n",
       "    .dataframe tbody tr th {\n",
       "        vertical-align: top;\n",
       "    }\n",
       "\n",
       "    .dataframe thead th {\n",
       "        text-align: right;\n",
       "    }\n",
       "</style>\n",
       "<table border=\"1\" class=\"dataframe\">\n",
       "  <thead>\n",
       "    <tr style=\"text-align: right;\">\n",
       "      <th></th>\n",
       "      <th>City</th>\n",
       "      <th>Discount</th>\n",
       "    </tr>\n",
       "  </thead>\n",
       "  <tbody>\n",
       "    <tr>\n",
       "      <th>0</th>\n",
       "      <td>Philadelphia</td>\n",
       "      <td>175.30</td>\n",
       "    </tr>\n",
       "    <tr>\n",
       "      <th>1</th>\n",
       "      <td>Houston</td>\n",
       "      <td>142.74</td>\n",
       "    </tr>\n",
       "    <tr>\n",
       "      <th>2</th>\n",
       "      <td>Chicago</td>\n",
       "      <td>119.70</td>\n",
       "    </tr>\n",
       "    <tr>\n",
       "      <th>3</th>\n",
       "      <td>Dallas</td>\n",
       "      <td>56.30</td>\n",
       "    </tr>\n",
       "    <tr>\n",
       "      <th>4</th>\n",
       "      <td>Los Angeles</td>\n",
       "      <td>55.50</td>\n",
       "    </tr>\n",
       "  </tbody>\n",
       "</table>\n",
       "</div>"
      ],
      "text/plain": [
       "           City  Discount\n",
       "0  Philadelphia    175.30\n",
       "1       Houston    142.74\n",
       "2       Chicago    119.70\n",
       "3        Dallas     56.30\n",
       "4   Los Angeles     55.50"
      ]
     },
     "execution_count": 26,
     "metadata": {},
     "output_type": "execute_result"
    }
   ],
   "source": [
    "# Aggregate Discount per city\n",
    "agg_disc=grouped['Discount'].agg(np.sum).sort_values(ascending=False).reset_index()\n",
    "\n",
    "# Cities with highest aggregated Discount\n",
    "agg_disc.head()"
   ]
  },
  {
   "cell_type": "markdown",
   "id": "4c020e7f",
   "metadata": {},
   "source": [
    "### Interestingly highest total discount is for Philadelphia followed by Houston and Chicago. But they do not lead the Sales and Profit table!"
   ]
  },
  {
   "cell_type": "code",
   "execution_count": 28,
   "id": "d07d6feb",
   "metadata": {},
   "outputs": [
    {
     "data": {
      "text/html": [
       "<div>\n",
       "<style scoped>\n",
       "    .dataframe tbody tr th:only-of-type {\n",
       "        vertical-align: middle;\n",
       "    }\n",
       "\n",
       "    .dataframe tbody tr th {\n",
       "        vertical-align: top;\n",
       "    }\n",
       "\n",
       "    .dataframe thead th {\n",
       "        text-align: right;\n",
       "    }\n",
       "</style>\n",
       "<table border=\"1\" class=\"dataframe\">\n",
       "  <thead>\n",
       "    <tr style=\"text-align: right;\">\n",
       "      <th></th>\n",
       "      <th>City</th>\n",
       "      <th>Sales</th>\n",
       "    </tr>\n",
       "  </thead>\n",
       "  <tbody>\n",
       "    <tr>\n",
       "      <th>0</th>\n",
       "      <td>Jamestown</td>\n",
       "      <td>2354.395000</td>\n",
       "    </tr>\n",
       "    <tr>\n",
       "      <th>1</th>\n",
       "      <td>Cheyenne</td>\n",
       "      <td>1603.136000</td>\n",
       "    </tr>\n",
       "    <tr>\n",
       "      <th>2</th>\n",
       "      <td>Bellingham</td>\n",
       "      <td>1263.413333</td>\n",
       "    </tr>\n",
       "    <tr>\n",
       "      <th>3</th>\n",
       "      <td>Independence</td>\n",
       "      <td>1208.685000</td>\n",
       "    </tr>\n",
       "    <tr>\n",
       "      <th>4</th>\n",
       "      <td>Burbank</td>\n",
       "      <td>1082.386000</td>\n",
       "    </tr>\n",
       "  </tbody>\n",
       "</table>\n",
       "</div>"
      ],
      "text/plain": [
       "           City        Sales\n",
       "0     Jamestown  2354.395000\n",
       "1      Cheyenne  1603.136000\n",
       "2    Bellingham  1263.413333\n",
       "3  Independence  1208.685000\n",
       "4       Burbank  1082.386000"
      ]
     },
     "execution_count": 28,
     "metadata": {},
     "output_type": "execute_result"
    }
   ],
   "source": [
    "# Average Sales per city\n",
    "avg_sales=grouped['Sales'].agg(np.mean).sort_values(ascending=False).reset_index()\n",
    "\n",
    "# Cities with highest Average sales\n",
    "avg_sales.head()"
   ]
  },
  {
   "cell_type": "code",
   "execution_count": 29,
   "id": "980edd19",
   "metadata": {},
   "outputs": [
    {
     "data": {
      "text/html": [
       "<div>\n",
       "<style scoped>\n",
       "    .dataframe tbody tr th:only-of-type {\n",
       "        vertical-align: middle;\n",
       "    }\n",
       "\n",
       "    .dataframe tbody tr th {\n",
       "        vertical-align: top;\n",
       "    }\n",
       "\n",
       "    .dataframe thead th {\n",
       "        text-align: right;\n",
       "    }\n",
       "</style>\n",
       "<table border=\"1\" class=\"dataframe\">\n",
       "  <thead>\n",
       "    <tr style=\"text-align: right;\">\n",
       "      <th></th>\n",
       "      <th>City</th>\n",
       "      <th>Sales</th>\n",
       "    </tr>\n",
       "  </thead>\n",
       "  <tbody>\n",
       "    <tr>\n",
       "      <th>526</th>\n",
       "      <td>Ormond Beach</td>\n",
       "      <td>2.808</td>\n",
       "    </tr>\n",
       "    <tr>\n",
       "      <th>527</th>\n",
       "      <td>Pensacola</td>\n",
       "      <td>2.214</td>\n",
       "    </tr>\n",
       "    <tr>\n",
       "      <th>528</th>\n",
       "      <td>Jupiter</td>\n",
       "      <td>2.064</td>\n",
       "    </tr>\n",
       "    <tr>\n",
       "      <th>529</th>\n",
       "      <td>Elyria</td>\n",
       "      <td>1.824</td>\n",
       "    </tr>\n",
       "    <tr>\n",
       "      <th>530</th>\n",
       "      <td>Abilene</td>\n",
       "      <td>1.392</td>\n",
       "    </tr>\n",
       "  </tbody>\n",
       "</table>\n",
       "</div>"
      ],
      "text/plain": [
       "             City  Sales\n",
       "526  Ormond Beach  2.808\n",
       "527     Pensacola  2.214\n",
       "528       Jupiter  2.064\n",
       "529        Elyria  1.824\n",
       "530       Abilene  1.392"
      ]
     },
     "execution_count": 29,
     "metadata": {},
     "output_type": "execute_result"
    }
   ],
   "source": [
    "# Cities with lowest Average sales\n",
    "avg_sales.tail()"
   ]
  },
  {
   "cell_type": "code",
   "execution_count": 30,
   "id": "0e07ef86",
   "metadata": {},
   "outputs": [
    {
     "data": {
      "text/html": [
       "<div>\n",
       "<style scoped>\n",
       "    .dataframe tbody tr th:only-of-type {\n",
       "        vertical-align: middle;\n",
       "    }\n",
       "\n",
       "    .dataframe tbody tr th {\n",
       "        vertical-align: top;\n",
       "    }\n",
       "\n",
       "    .dataframe thead th {\n",
       "        text-align: right;\n",
       "    }\n",
       "</style>\n",
       "<table border=\"1\" class=\"dataframe\">\n",
       "  <thead>\n",
       "    <tr style=\"text-align: right;\">\n",
       "      <th></th>\n",
       "      <th>City</th>\n",
       "      <th>Profit</th>\n",
       "    </tr>\n",
       "  </thead>\n",
       "  <tbody>\n",
       "    <tr>\n",
       "      <th>0</th>\n",
       "      <td>Jamestown</td>\n",
       "      <td>642.885750</td>\n",
       "    </tr>\n",
       "    <tr>\n",
       "      <th>1</th>\n",
       "      <td>Independence</td>\n",
       "      <td>487.831500</td>\n",
       "    </tr>\n",
       "    <tr>\n",
       "      <th>2</th>\n",
       "      <td>Lafayette</td>\n",
       "      <td>323.173794</td>\n",
       "    </tr>\n",
       "    <tr>\n",
       "      <th>3</th>\n",
       "      <td>Minneapolis</td>\n",
       "      <td>296.721070</td>\n",
       "    </tr>\n",
       "    <tr>\n",
       "      <th>4</th>\n",
       "      <td>Appleton</td>\n",
       "      <td>277.383150</td>\n",
       "    </tr>\n",
       "  </tbody>\n",
       "</table>\n",
       "</div>"
      ],
      "text/plain": [
       "           City      Profit\n",
       "0     Jamestown  642.885750\n",
       "1  Independence  487.831500\n",
       "2     Lafayette  323.173794\n",
       "3   Minneapolis  296.721070\n",
       "4      Appleton  277.383150"
      ]
     },
     "execution_count": 30,
     "metadata": {},
     "output_type": "execute_result"
    }
   ],
   "source": [
    "# Average Profit per city\n",
    "avg_profit=grouped['Profit'].agg(np.mean).sort_values(ascending=False).reset_index()\n",
    "\n",
    "# Cities with highest Average profit\n",
    "avg_profit.head()"
   ]
  },
  {
   "cell_type": "code",
   "execution_count": 31,
   "id": "d62aef14",
   "metadata": {},
   "outputs": [
    {
     "data": {
      "text/html": [
       "<div>\n",
       "<style scoped>\n",
       "    .dataframe tbody tr th:only-of-type {\n",
       "        vertical-align: middle;\n",
       "    }\n",
       "\n",
       "    .dataframe tbody tr th {\n",
       "        vertical-align: top;\n",
       "    }\n",
       "\n",
       "    .dataframe thead th {\n",
       "        text-align: right;\n",
       "    }\n",
       "</style>\n",
       "<table border=\"1\" class=\"dataframe\">\n",
       "  <thead>\n",
       "    <tr style=\"text-align: right;\">\n",
       "      <th></th>\n",
       "      <th>City</th>\n",
       "      <th>Profit</th>\n",
       "    </tr>\n",
       "  </thead>\n",
       "  <tbody>\n",
       "    <tr>\n",
       "      <th>526</th>\n",
       "      <td>Lancaster</td>\n",
       "      <td>-157.371052</td>\n",
       "    </tr>\n",
       "    <tr>\n",
       "      <th>527</th>\n",
       "      <td>Round Rock</td>\n",
       "      <td>-169.061614</td>\n",
       "    </tr>\n",
       "    <tr>\n",
       "      <th>528</th>\n",
       "      <td>Oswego</td>\n",
       "      <td>-178.709200</td>\n",
       "    </tr>\n",
       "    <tr>\n",
       "      <th>529</th>\n",
       "      <td>Champaign</td>\n",
       "      <td>-182.352000</td>\n",
       "    </tr>\n",
       "    <tr>\n",
       "      <th>530</th>\n",
       "      <td>Bethlehem</td>\n",
       "      <td>-200.619160</td>\n",
       "    </tr>\n",
       "  </tbody>\n",
       "</table>\n",
       "</div>"
      ],
      "text/plain": [
       "           City      Profit\n",
       "526   Lancaster -157.371052\n",
       "527  Round Rock -169.061614\n",
       "528      Oswego -178.709200\n",
       "529   Champaign -182.352000\n",
       "530   Bethlehem -200.619160"
      ]
     },
     "execution_count": 31,
     "metadata": {},
     "output_type": "execute_result"
    }
   ],
   "source": [
    "# Cities with lowest Average profit\n",
    "avg_profit.tail()"
   ]
  },
  {
   "cell_type": "code",
   "execution_count": 32,
   "id": "71a104ff",
   "metadata": {},
   "outputs": [
    {
     "data": {
      "text/html": [
       "<div>\n",
       "<style scoped>\n",
       "    .dataframe tbody tr th:only-of-type {\n",
       "        vertical-align: middle;\n",
       "    }\n",
       "\n",
       "    .dataframe tbody tr th {\n",
       "        vertical-align: top;\n",
       "    }\n",
       "\n",
       "    .dataframe thead th {\n",
       "        text-align: right;\n",
       "    }\n",
       "</style>\n",
       "<table border=\"1\" class=\"dataframe\">\n",
       "  <thead>\n",
       "    <tr style=\"text-align: right;\">\n",
       "      <th></th>\n",
       "      <th>City</th>\n",
       "      <th>Discount</th>\n",
       "    </tr>\n",
       "  </thead>\n",
       "  <tbody>\n",
       "    <tr>\n",
       "      <th>0</th>\n",
       "      <td>Missouri City</td>\n",
       "      <td>0.8</td>\n",
       "    </tr>\n",
       "    <tr>\n",
       "      <th>1</th>\n",
       "      <td>Romeoville</td>\n",
       "      <td>0.8</td>\n",
       "    </tr>\n",
       "    <tr>\n",
       "      <th>2</th>\n",
       "      <td>Deer Park</td>\n",
       "      <td>0.8</td>\n",
       "    </tr>\n",
       "    <tr>\n",
       "      <th>3</th>\n",
       "      <td>Abilene</td>\n",
       "      <td>0.8</td>\n",
       "    </tr>\n",
       "    <tr>\n",
       "      <th>4</th>\n",
       "      <td>Elyria</td>\n",
       "      <td>0.7</td>\n",
       "    </tr>\n",
       "  </tbody>\n",
       "</table>\n",
       "</div>"
      ],
      "text/plain": [
       "            City  Discount\n",
       "0  Missouri City       0.8\n",
       "1     Romeoville       0.8\n",
       "2      Deer Park       0.8\n",
       "3        Abilene       0.8\n",
       "4         Elyria       0.7"
      ]
     },
     "execution_count": 32,
     "metadata": {},
     "output_type": "execute_result"
    }
   ],
   "source": [
    "# Average Discount per city\n",
    "avg_disc=grouped['Discount'].agg(np.mean).sort_values(ascending=False).reset_index()\n",
    "\n",
    "# Cities with highest Average discount\n",
    "avg_disc.head()"
   ]
  },
  {
   "cell_type": "code",
   "execution_count": 33,
   "id": "8de61c66",
   "metadata": {},
   "outputs": [
    {
     "data": {
      "text/html": [
       "<div>\n",
       "<style scoped>\n",
       "    .dataframe tbody tr th:only-of-type {\n",
       "        vertical-align: middle;\n",
       "    }\n",
       "\n",
       "    .dataframe tbody tr th {\n",
       "        vertical-align: top;\n",
       "    }\n",
       "\n",
       "    .dataframe thead th {\n",
       "        text-align: right;\n",
       "    }\n",
       "</style>\n",
       "<table border=\"1\" class=\"dataframe\">\n",
       "  <thead>\n",
       "    <tr style=\"text-align: right;\">\n",
       "      <th></th>\n",
       "      <th>City</th>\n",
       "      <th>Discount</th>\n",
       "    </tr>\n",
       "  </thead>\n",
       "  <tbody>\n",
       "    <tr>\n",
       "      <th>526</th>\n",
       "      <td>Mobile</td>\n",
       "      <td>0.0</td>\n",
       "    </tr>\n",
       "    <tr>\n",
       "      <th>527</th>\n",
       "      <td>Montebello</td>\n",
       "      <td>0.0</td>\n",
       "    </tr>\n",
       "    <tr>\n",
       "      <th>528</th>\n",
       "      <td>Montgomery</td>\n",
       "      <td>0.0</td>\n",
       "    </tr>\n",
       "    <tr>\n",
       "      <th>529</th>\n",
       "      <td>Moorhead</td>\n",
       "      <td>0.0</td>\n",
       "    </tr>\n",
       "    <tr>\n",
       "      <th>530</th>\n",
       "      <td>Aberdeen</td>\n",
       "      <td>0.0</td>\n",
       "    </tr>\n",
       "  </tbody>\n",
       "</table>\n",
       "</div>"
      ],
      "text/plain": [
       "           City  Discount\n",
       "526      Mobile       0.0\n",
       "527  Montebello       0.0\n",
       "528  Montgomery       0.0\n",
       "529    Moorhead       0.0\n",
       "530    Aberdeen       0.0"
      ]
     },
     "execution_count": 33,
     "metadata": {},
     "output_type": "execute_result"
    }
   ],
   "source": [
    "# Cities with lowest Average Discount\n",
    "avg_disc.tail()"
   ]
  },
  {
   "cell_type": "markdown",
   "id": "207512fc",
   "metadata": {},
   "source": [
    "### Something new, in all these average calculations, the Cities which topped the total Sales, total Profit and total Discount, are not leading here. But the overall scenario can be obtained from these average values."
   ]
  },
  {
   "cell_type": "code",
   "execution_count": 42,
   "id": "4e7c6978",
   "metadata": {},
   "outputs": [],
   "source": [
    "# Cities having High Average Discounts\n",
    "high_dist=avg_disc[avg_disc['Discount'] >=0.7]\n",
    "\n",
    "# Cities having low Average Discounts\n",
    "low_dist=avg_disc[avg_disc['Discount']==0]\n",
    "\n",
    "# Cities having High Average Sales\n",
    "high_sales=avg_sales[avg_sales['Sales']>500]\n",
    "\n",
    "# Cities having low Average Sales\n",
    "low_sales=avg_sales[avg_sales['Sales']<50]\n",
    "\n",
    "# Cities having High Average Profit\n",
    "high_profit=avg_profit[avg_profit['Profit']>100]\n",
    "\n",
    "# Cities having low Average profit\n",
    "low_profit=avg_profit[avg_profit['Profit']<0]"
   ]
  },
  {
   "cell_type": "code",
   "execution_count": 43,
   "id": "b921d86f",
   "metadata": {},
   "outputs": [
    {
     "data": {
      "text/html": [
       "<div>\n",
       "<style scoped>\n",
       "    .dataframe tbody tr th:only-of-type {\n",
       "        vertical-align: middle;\n",
       "    }\n",
       "\n",
       "    .dataframe tbody tr th {\n",
       "        vertical-align: top;\n",
       "    }\n",
       "\n",
       "    .dataframe thead th {\n",
       "        text-align: right;\n",
       "    }\n",
       "</style>\n",
       "<table border=\"1\" class=\"dataframe\">\n",
       "  <thead>\n",
       "    <tr style=\"text-align: right;\">\n",
       "      <th></th>\n",
       "      <th>City</th>\n",
       "      <th>Discount</th>\n",
       "      <th>Sales</th>\n",
       "    </tr>\n",
       "  </thead>\n",
       "  <tbody>\n",
       "    <tr>\n",
       "      <th>0</th>\n",
       "      <td>Missouri City</td>\n",
       "      <td>0.8</td>\n",
       "      <td>6.370</td>\n",
       "    </tr>\n",
       "    <tr>\n",
       "      <th>1</th>\n",
       "      <td>Romeoville</td>\n",
       "      <td>0.8</td>\n",
       "      <td>8.952</td>\n",
       "    </tr>\n",
       "    <tr>\n",
       "      <th>2</th>\n",
       "      <td>Deer Park</td>\n",
       "      <td>0.8</td>\n",
       "      <td>6.924</td>\n",
       "    </tr>\n",
       "    <tr>\n",
       "      <th>3</th>\n",
       "      <td>Abilene</td>\n",
       "      <td>0.8</td>\n",
       "      <td>1.392</td>\n",
       "    </tr>\n",
       "    <tr>\n",
       "      <th>4</th>\n",
       "      <td>Elyria</td>\n",
       "      <td>0.7</td>\n",
       "      <td>1.824</td>\n",
       "    </tr>\n",
       "    <tr>\n",
       "      <th>5</th>\n",
       "      <td>Ormond Beach</td>\n",
       "      <td>0.7</td>\n",
       "      <td>2.808</td>\n",
       "    </tr>\n",
       "    <tr>\n",
       "      <th>6</th>\n",
       "      <td>Pensacola</td>\n",
       "      <td>0.7</td>\n",
       "      <td>2.214</td>\n",
       "    </tr>\n",
       "  </tbody>\n",
       "</table>\n",
       "</div>"
      ],
      "text/plain": [
       "            City  Discount  Sales\n",
       "0  Missouri City       0.8  6.370\n",
       "1     Romeoville       0.8  8.952\n",
       "2      Deer Park       0.8  6.924\n",
       "3        Abilene       0.8  1.392\n",
       "4         Elyria       0.7  1.824\n",
       "5   Ormond Beach       0.7  2.808\n",
       "6      Pensacola       0.7  2.214"
      ]
     },
     "execution_count": 43,
     "metadata": {},
     "output_type": "execute_result"
    }
   ],
   "source": [
    "# Cities with High-Average-Discounts but Low-Average-Sales\n",
    "merged= pd.merge(high_dist,low_sales, on=['City'],how='inner')\n",
    "merged"
   ]
  },
  {
   "cell_type": "markdown",
   "id": "38e04af6",
   "metadata": {},
   "source": [
    "### **Important Insight:-** Here we can see 7 Cities where the Company is giving high discounts but Sales are very low. And as the company is already giving such high discounts, there is no question of increasing discount further. Hence here our investment is won't be fruitful."
   ]
  },
  {
   "cell_type": "code",
   "execution_count": 45,
   "id": "3dd2ed82",
   "metadata": {},
   "outputs": [
    {
     "data": {
      "text/html": [
       "<div>\n",
       "<style scoped>\n",
       "    .dataframe tbody tr th:only-of-type {\n",
       "        vertical-align: middle;\n",
       "    }\n",
       "\n",
       "    .dataframe tbody tr th {\n",
       "        vertical-align: top;\n",
       "    }\n",
       "\n",
       "    .dataframe thead th {\n",
       "        text-align: right;\n",
       "    }\n",
       "</style>\n",
       "<table border=\"1\" class=\"dataframe\">\n",
       "  <thead>\n",
       "    <tr style=\"text-align: right;\">\n",
       "      <th></th>\n",
       "      <th>City</th>\n",
       "      <th>Sales</th>\n",
       "      <th>Profit</th>\n",
       "    </tr>\n",
       "  </thead>\n",
       "  <tbody>\n",
       "    <tr>\n",
       "      <th>0</th>\n",
       "      <td>Jamestown</td>\n",
       "      <td>2354.395000</td>\n",
       "      <td>642.885750</td>\n",
       "    </tr>\n",
       "    <tr>\n",
       "      <th>1</th>\n",
       "      <td>Cheyenne</td>\n",
       "      <td>1603.136000</td>\n",
       "      <td>100.196000</td>\n",
       "    </tr>\n",
       "    <tr>\n",
       "      <th>2</th>\n",
       "      <td>Bellingham</td>\n",
       "      <td>1263.413333</td>\n",
       "      <td>203.530267</td>\n",
       "    </tr>\n",
       "    <tr>\n",
       "      <th>3</th>\n",
       "      <td>Independence</td>\n",
       "      <td>1208.685000</td>\n",
       "      <td>487.831500</td>\n",
       "    </tr>\n",
       "    <tr>\n",
       "      <th>4</th>\n",
       "      <td>Burbank</td>\n",
       "      <td>1082.386000</td>\n",
       "      <td>254.844600</td>\n",
       "    </tr>\n",
       "    <tr>\n",
       "      <th>5</th>\n",
       "      <td>Beverly</td>\n",
       "      <td>861.063333</td>\n",
       "      <td>218.306467</td>\n",
       "    </tr>\n",
       "    <tr>\n",
       "      <th>6</th>\n",
       "      <td>Appleton</td>\n",
       "      <td>835.655000</td>\n",
       "      <td>277.383150</td>\n",
       "    </tr>\n",
       "    <tr>\n",
       "      <th>7</th>\n",
       "      <td>Lafayette</td>\n",
       "      <td>807.619355</td>\n",
       "      <td>323.173794</td>\n",
       "    </tr>\n",
       "    <tr>\n",
       "      <th>8</th>\n",
       "      <td>Torrance</td>\n",
       "      <td>783.067000</td>\n",
       "      <td>136.287750</td>\n",
       "    </tr>\n",
       "    <tr>\n",
       "      <th>9</th>\n",
       "      <td>Lehi</td>\n",
       "      <td>758.363000</td>\n",
       "      <td>225.831300</td>\n",
       "    </tr>\n",
       "    <tr>\n",
       "      <th>10</th>\n",
       "      <td>Minneapolis</td>\n",
       "      <td>733.501739</td>\n",
       "      <td>296.721070</td>\n",
       "    </tr>\n",
       "    <tr>\n",
       "      <th>11</th>\n",
       "      <td>Morristown</td>\n",
       "      <td>719.014286</td>\n",
       "      <td>262.603871</td>\n",
       "    </tr>\n",
       "    <tr>\n",
       "      <th>12</th>\n",
       "      <td>Saint Peters</td>\n",
       "      <td>697.160000</td>\n",
       "      <td>146.403600</td>\n",
       "    </tr>\n",
       "    <tr>\n",
       "      <th>13</th>\n",
       "      <td>Norman</td>\n",
       "      <td>675.665000</td>\n",
       "      <td>134.764350</td>\n",
       "    </tr>\n",
       "    <tr>\n",
       "      <th>14</th>\n",
       "      <td>Harrisonburg</td>\n",
       "      <td>626.958571</td>\n",
       "      <td>127.074843</td>\n",
       "    </tr>\n",
       "    <tr>\n",
       "      <th>15</th>\n",
       "      <td>North Las Vegas</td>\n",
       "      <td>612.562625</td>\n",
       "      <td>140.480619</td>\n",
       "    </tr>\n",
       "    <tr>\n",
       "      <th>16</th>\n",
       "      <td>Great Falls</td>\n",
       "      <td>575.697500</td>\n",
       "      <td>197.838388</td>\n",
       "    </tr>\n",
       "    <tr>\n",
       "      <th>17</th>\n",
       "      <td>Twin Falls</td>\n",
       "      <td>574.403000</td>\n",
       "      <td>133.082450</td>\n",
       "    </tr>\n",
       "    <tr>\n",
       "      <th>18</th>\n",
       "      <td>Dubuque</td>\n",
       "      <td>562.433333</td>\n",
       "      <td>159.224800</td>\n",
       "    </tr>\n",
       "    <tr>\n",
       "      <th>19</th>\n",
       "      <td>Sacramento</td>\n",
       "      <td>562.406000</td>\n",
       "      <td>159.206608</td>\n",
       "    </tr>\n",
       "    <tr>\n",
       "      <th>20</th>\n",
       "      <td>Madison</td>\n",
       "      <td>534.679000</td>\n",
       "      <td>112.365520</td>\n",
       "    </tr>\n",
       "    <tr>\n",
       "      <th>21</th>\n",
       "      <td>Providence</td>\n",
       "      <td>515.504839</td>\n",
       "      <td>177.601835</td>\n",
       "    </tr>\n",
       "    <tr>\n",
       "      <th>22</th>\n",
       "      <td>Yonkers</td>\n",
       "      <td>510.511067</td>\n",
       "      <td>184.517047</td>\n",
       "    </tr>\n",
       "  </tbody>\n",
       "</table>\n",
       "</div>"
      ],
      "text/plain": [
       "               City        Sales      Profit\n",
       "0         Jamestown  2354.395000  642.885750\n",
       "1          Cheyenne  1603.136000  100.196000\n",
       "2        Bellingham  1263.413333  203.530267\n",
       "3      Independence  1208.685000  487.831500\n",
       "4           Burbank  1082.386000  254.844600\n",
       "5           Beverly   861.063333  218.306467\n",
       "6          Appleton   835.655000  277.383150\n",
       "7         Lafayette   807.619355  323.173794\n",
       "8          Torrance   783.067000  136.287750\n",
       "9              Lehi   758.363000  225.831300\n",
       "10      Minneapolis   733.501739  296.721070\n",
       "11       Morristown   719.014286  262.603871\n",
       "12     Saint Peters   697.160000  146.403600\n",
       "13           Norman   675.665000  134.764350\n",
       "14     Harrisonburg   626.958571  127.074843\n",
       "15  North Las Vegas   612.562625  140.480619\n",
       "16      Great Falls   575.697500  197.838388\n",
       "17       Twin Falls   574.403000  133.082450\n",
       "18          Dubuque   562.433333  159.224800\n",
       "19       Sacramento   562.406000  159.206608\n",
       "20          Madison   534.679000  112.365520\n",
       "21       Providence   515.504839  177.601835\n",
       "22          Yonkers   510.511067  184.517047"
      ]
     },
     "execution_count": 45,
     "metadata": {},
     "output_type": "execute_result"
    }
   ],
   "source": [
    "merged2= pd.merge(high_sales,high_profit, on=['City'], how='inner')\n",
    "merged2"
   ]
  },
  {
   "cell_type": "markdown",
   "id": "e93ea0c8",
   "metadata": {},
   "source": [
    "### **Important Insight:-** The stats above are very pleasing. In the above 23 Cities the sales as well as profit is quite good. Hence if we can invest in these cities (in terms of Discount and other aspects), business can increase more. These can be termed as the Hot-Spots."
   ]
  },
  {
   "cell_type": "code",
   "execution_count": 46,
   "id": "0f222033",
   "metadata": {},
   "outputs": [
    {
     "data": {
      "text/html": [
       "<div>\n",
       "<style scoped>\n",
       "    .dataframe tbody tr th:only-of-type {\n",
       "        vertical-align: middle;\n",
       "    }\n",
       "\n",
       "    .dataframe tbody tr th {\n",
       "        vertical-align: top;\n",
       "    }\n",
       "\n",
       "    .dataframe thead th {\n",
       "        text-align: right;\n",
       "    }\n",
       "</style>\n",
       "<table border=\"1\" class=\"dataframe\">\n",
       "  <thead>\n",
       "    <tr style=\"text-align: right;\">\n",
       "      <th></th>\n",
       "      <th>City</th>\n",
       "      <th>Discount</th>\n",
       "      <th>Sales</th>\n",
       "    </tr>\n",
       "  </thead>\n",
       "  <tbody>\n",
       "    <tr>\n",
       "      <th>0</th>\n",
       "      <td>Appleton</td>\n",
       "      <td>0.0</td>\n",
       "      <td>835.655000</td>\n",
       "    </tr>\n",
       "    <tr>\n",
       "      <th>1</th>\n",
       "      <td>Saint Peters</td>\n",
       "      <td>0.0</td>\n",
       "      <td>697.160000</td>\n",
       "    </tr>\n",
       "    <tr>\n",
       "      <th>2</th>\n",
       "      <td>Harrisonburg</td>\n",
       "      <td>0.0</td>\n",
       "      <td>626.958571</td>\n",
       "    </tr>\n",
       "    <tr>\n",
       "      <th>3</th>\n",
       "      <td>Independence</td>\n",
       "      <td>0.0</td>\n",
       "      <td>1208.685000</td>\n",
       "    </tr>\n",
       "    <tr>\n",
       "      <th>4</th>\n",
       "      <td>Jamestown</td>\n",
       "      <td>0.0</td>\n",
       "      <td>2354.395000</td>\n",
       "    </tr>\n",
       "    <tr>\n",
       "      <th>5</th>\n",
       "      <td>Lafayette</td>\n",
       "      <td>0.0</td>\n",
       "      <td>807.619355</td>\n",
       "    </tr>\n",
       "    <tr>\n",
       "      <th>6</th>\n",
       "      <td>Dubuque</td>\n",
       "      <td>0.0</td>\n",
       "      <td>562.433333</td>\n",
       "    </tr>\n",
       "    <tr>\n",
       "      <th>7</th>\n",
       "      <td>Noblesville</td>\n",
       "      <td>0.0</td>\n",
       "      <td>772.795000</td>\n",
       "    </tr>\n",
       "    <tr>\n",
       "      <th>8</th>\n",
       "      <td>Norman</td>\n",
       "      <td>0.0</td>\n",
       "      <td>675.665000</td>\n",
       "    </tr>\n",
       "    <tr>\n",
       "      <th>9</th>\n",
       "      <td>Beverly</td>\n",
       "      <td>0.0</td>\n",
       "      <td>861.063333</td>\n",
       "    </tr>\n",
       "    <tr>\n",
       "      <th>10</th>\n",
       "      <td>Morristown</td>\n",
       "      <td>0.0</td>\n",
       "      <td>719.014286</td>\n",
       "    </tr>\n",
       "    <tr>\n",
       "      <th>11</th>\n",
       "      <td>Madison</td>\n",
       "      <td>0.0</td>\n",
       "      <td>534.679000</td>\n",
       "    </tr>\n",
       "    <tr>\n",
       "      <th>12</th>\n",
       "      <td>Minneapolis</td>\n",
       "      <td>0.0</td>\n",
       "      <td>733.501739</td>\n",
       "    </tr>\n",
       "  </tbody>\n",
       "</table>\n",
       "</div>"
      ],
      "text/plain": [
       "            City  Discount        Sales\n",
       "0       Appleton       0.0   835.655000\n",
       "1   Saint Peters       0.0   697.160000\n",
       "2   Harrisonburg       0.0   626.958571\n",
       "3   Independence       0.0  1208.685000\n",
       "4      Jamestown       0.0  2354.395000\n",
       "5      Lafayette       0.0   807.619355\n",
       "6        Dubuque       0.0   562.433333\n",
       "7    Noblesville       0.0   772.795000\n",
       "8         Norman       0.0   675.665000\n",
       "9        Beverly       0.0   861.063333\n",
       "10    Morristown       0.0   719.014286\n",
       "11       Madison       0.0   534.679000\n",
       "12   Minneapolis       0.0   733.501739"
      ]
     },
     "execution_count": 46,
     "metadata": {},
     "output_type": "execute_result"
    }
   ],
   "source": [
    "# Cities where Average Discount is less but Average Sales are High\n",
    "\n",
    "merged3= pd.merge(low_dist,high_sales, on='City', how='inner')\n",
    "merged3"
   ]
  },
  {
   "cell_type": "markdown",
   "id": "6f7868d0",
   "metadata": {},
   "source": [
    "### **Important Insight:-** These 13 cities are generating high average sales in spite of no discount! Hence if our investments can be increased in these cities, then huge sales as well as huge profits can be driven from these Cities."
   ]
  },
  {
   "cell_type": "code",
   "execution_count": 48,
   "id": "21587c91",
   "metadata": {},
   "outputs": [
    {
     "data": {
      "text/html": [
       "<div>\n",
       "<style scoped>\n",
       "    .dataframe tbody tr th:only-of-type {\n",
       "        vertical-align: middle;\n",
       "    }\n",
       "\n",
       "    .dataframe tbody tr th {\n",
       "        vertical-align: top;\n",
       "    }\n",
       "\n",
       "    .dataframe thead th {\n",
       "        text-align: right;\n",
       "    }\n",
       "</style>\n",
       "<table border=\"1\" class=\"dataframe\">\n",
       "  <thead>\n",
       "    <tr style=\"text-align: right;\">\n",
       "      <th></th>\n",
       "      <th>City</th>\n",
       "      <th>Sales</th>\n",
       "      <th>Profit</th>\n",
       "    </tr>\n",
       "  </thead>\n",
       "  <tbody>\n",
       "    <tr>\n",
       "      <th>0</th>\n",
       "      <td>Burlington</td>\n",
       "      <td>866.723280</td>\n",
       "      <td>-144.915088</td>\n",
       "    </tr>\n",
       "    <tr>\n",
       "      <th>1</th>\n",
       "      <td>Round Rock</td>\n",
       "      <td>693.436114</td>\n",
       "      <td>-169.061614</td>\n",
       "    </tr>\n",
       "    <tr>\n",
       "      <th>2</th>\n",
       "      <td>Richardson</td>\n",
       "      <td>644.232000</td>\n",
       "      <td>-12.244650</td>\n",
       "    </tr>\n",
       "  </tbody>\n",
       "</table>\n",
       "</div>"
      ],
      "text/plain": [
       "         City       Sales      Profit\n",
       "0  Burlington  866.723280 -144.915088\n",
       "1  Round Rock  693.436114 -169.061614\n",
       "2  Richardson  644.232000  -12.244650"
      ]
     },
     "execution_count": 48,
     "metadata": {},
     "output_type": "execute_result"
    }
   ],
   "source": [
    "# Cities with high Average sales but low Average profit\n",
    "\n",
    "merged4= pd.merge(high_sales,low_profit, on='City', how='inner')\n",
    "merged4"
   ]
  },
  {
   "cell_type": "markdown",
   "id": "3b1f6c1e",
   "metadata": {},
   "source": [
    "### **Important Insight:-** In above 3 cities, there is a good amount of sales but the company is in loss here. Hence focus can be shifted from here."
   ]
  },
  {
   "cell_type": "code",
   "execution_count": 50,
   "id": "a6c72fbe",
   "metadata": {},
   "outputs": [
    {
     "data": {
      "text/html": [
       "<div>\n",
       "<style scoped>\n",
       "    .dataframe tbody tr th:only-of-type {\n",
       "        vertical-align: middle;\n",
       "    }\n",
       "\n",
       "    .dataframe tbody tr th {\n",
       "        vertical-align: top;\n",
       "    }\n",
       "\n",
       "    .dataframe thead th {\n",
       "        text-align: right;\n",
       "    }\n",
       "</style>\n",
       "<table border=\"1\" class=\"dataframe\">\n",
       "  <thead>\n",
       "    <tr style=\"text-align: right;\">\n",
       "      <th></th>\n",
       "      <th>City</th>\n",
       "      <th>Discount</th>\n",
       "      <th>Profit</th>\n",
       "    </tr>\n",
       "  </thead>\n",
       "  <tbody>\n",
       "    <tr>\n",
       "      <th>0</th>\n",
       "      <td>Missouri City</td>\n",
       "      <td>0.8</td>\n",
       "      <td>-9.5550</td>\n",
       "    </tr>\n",
       "    <tr>\n",
       "      <th>1</th>\n",
       "      <td>Romeoville</td>\n",
       "      <td>0.8</td>\n",
       "      <td>-14.7708</td>\n",
       "    </tr>\n",
       "    <tr>\n",
       "      <th>2</th>\n",
       "      <td>Deer Park</td>\n",
       "      <td>0.8</td>\n",
       "      <td>-10.3860</td>\n",
       "    </tr>\n",
       "    <tr>\n",
       "      <th>3</th>\n",
       "      <td>Abilene</td>\n",
       "      <td>0.8</td>\n",
       "      <td>-3.7584</td>\n",
       "    </tr>\n",
       "    <tr>\n",
       "      <th>4</th>\n",
       "      <td>Elyria</td>\n",
       "      <td>0.7</td>\n",
       "      <td>-1.3984</td>\n",
       "    </tr>\n",
       "    <tr>\n",
       "      <th>5</th>\n",
       "      <td>Littleton</td>\n",
       "      <td>0.7</td>\n",
       "      <td>-98.8018</td>\n",
       "    </tr>\n",
       "    <tr>\n",
       "      <th>6</th>\n",
       "      <td>Ormond Beach</td>\n",
       "      <td>0.7</td>\n",
       "      <td>-1.9656</td>\n",
       "    </tr>\n",
       "    <tr>\n",
       "      <th>7</th>\n",
       "      <td>Pensacola</td>\n",
       "      <td>0.7</td>\n",
       "      <td>-1.4760</td>\n",
       "    </tr>\n",
       "  </tbody>\n",
       "</table>\n",
       "</div>"
      ],
      "text/plain": [
       "            City  Discount   Profit\n",
       "0  Missouri City       0.8  -9.5550\n",
       "1     Romeoville       0.8 -14.7708\n",
       "2      Deer Park       0.8 -10.3860\n",
       "3        Abilene       0.8  -3.7584\n",
       "4         Elyria       0.7  -1.3984\n",
       "5      Littleton       0.7 -98.8018\n",
       "6   Ormond Beach       0.7  -1.9656\n",
       "7      Pensacola       0.7  -1.4760"
      ]
     },
     "execution_count": 50,
     "metadata": {},
     "output_type": "execute_result"
    }
   ],
   "source": [
    "# Cities with high Average discount but low Average profit\n",
    "\n",
    "merged5= pd.merge(high_dist,low_profit, on='City', how='inner')\n",
    "merged5"
   ]
  },
  {
   "cell_type": "markdown",
   "id": "9806daa9",
   "metadata": {},
   "source": [
    "### **Important Insight:-** The above 8 countries gets highest average Discount, but here the business is generating loss! Either strong focus should be given in these cities to find out the faults or the discounts should be decreased to make up the loss."
   ]
  },
  {
   "cell_type": "code",
   "execution_count": 49,
   "id": "2b0e767f",
   "metadata": {},
   "outputs": [
    {
     "data": {
      "text/html": [
       "<div>\n",
       "<style scoped>\n",
       "    .dataframe tbody tr th:only-of-type {\n",
       "        vertical-align: middle;\n",
       "    }\n",
       "\n",
       "    .dataframe tbody tr th {\n",
       "        vertical-align: top;\n",
       "    }\n",
       "\n",
       "    .dataframe thead th {\n",
       "        text-align: right;\n",
       "    }\n",
       "</style>\n",
       "<table border=\"1\" class=\"dataframe\">\n",
       "  <thead>\n",
       "    <tr style=\"text-align: right;\">\n",
       "      <th></th>\n",
       "      <th>City</th>\n",
       "      <th>Discount</th>\n",
       "      <th>Profit</th>\n",
       "    </tr>\n",
       "  </thead>\n",
       "  <tbody>\n",
       "    <tr>\n",
       "      <th>0</th>\n",
       "      <td>Atlanta</td>\n",
       "      <td>0.0</td>\n",
       "      <td>179.324690</td>\n",
       "    </tr>\n",
       "    <tr>\n",
       "      <th>1</th>\n",
       "      <td>Roswell</td>\n",
       "      <td>0.0</td>\n",
       "      <td>134.857517</td>\n",
       "    </tr>\n",
       "    <tr>\n",
       "      <th>2</th>\n",
       "      <td>Appleton</td>\n",
       "      <td>0.0</td>\n",
       "      <td>277.383150</td>\n",
       "    </tr>\n",
       "    <tr>\n",
       "      <th>3</th>\n",
       "      <td>Saint Cloud</td>\n",
       "      <td>0.0</td>\n",
       "      <td>156.538000</td>\n",
       "    </tr>\n",
       "    <tr>\n",
       "      <th>4</th>\n",
       "      <td>Vacaville</td>\n",
       "      <td>0.0</td>\n",
       "      <td>110.052800</td>\n",
       "    </tr>\n",
       "    <tr>\n",
       "      <th>5</th>\n",
       "      <td>Saint Peters</td>\n",
       "      <td>0.0</td>\n",
       "      <td>146.403600</td>\n",
       "    </tr>\n",
       "    <tr>\n",
       "      <th>6</th>\n",
       "      <td>Washington</td>\n",
       "      <td>0.0</td>\n",
       "      <td>105.958930</td>\n",
       "    </tr>\n",
       "    <tr>\n",
       "      <th>7</th>\n",
       "      <td>Warwick</td>\n",
       "      <td>0.0</td>\n",
       "      <td>212.759120</td>\n",
       "    </tr>\n",
       "    <tr>\n",
       "      <th>8</th>\n",
       "      <td>Virginia Beach</td>\n",
       "      <td>0.0</td>\n",
       "      <td>126.555231</td>\n",
       "    </tr>\n",
       "    <tr>\n",
       "      <th>9</th>\n",
       "      <td>Harrisonburg</td>\n",
       "      <td>0.0</td>\n",
       "      <td>127.074843</td>\n",
       "    </tr>\n",
       "    <tr>\n",
       "      <th>10</th>\n",
       "      <td>Independence</td>\n",
       "      <td>0.0</td>\n",
       "      <td>487.831500</td>\n",
       "    </tr>\n",
       "    <tr>\n",
       "      <th>11</th>\n",
       "      <td>Indianapolis</td>\n",
       "      <td>0.0</td>\n",
       "      <td>119.202339</td>\n",
       "    </tr>\n",
       "    <tr>\n",
       "      <th>12</th>\n",
       "      <td>Jamestown</td>\n",
       "      <td>0.0</td>\n",
       "      <td>642.885750</td>\n",
       "    </tr>\n",
       "    <tr>\n",
       "      <th>13</th>\n",
       "      <td>Kenosha</td>\n",
       "      <td>0.0</td>\n",
       "      <td>114.230311</td>\n",
       "    </tr>\n",
       "    <tr>\n",
       "      <th>14</th>\n",
       "      <td>Lafayette</td>\n",
       "      <td>0.0</td>\n",
       "      <td>323.173794</td>\n",
       "    </tr>\n",
       "    <tr>\n",
       "      <th>15</th>\n",
       "      <td>Greenwood</td>\n",
       "      <td>0.0</td>\n",
       "      <td>117.933050</td>\n",
       "    </tr>\n",
       "    <tr>\n",
       "      <th>16</th>\n",
       "      <td>Dubuque</td>\n",
       "      <td>0.0</td>\n",
       "      <td>159.224800</td>\n",
       "    </tr>\n",
       "    <tr>\n",
       "      <th>17</th>\n",
       "      <td>Edmond</td>\n",
       "      <td>0.0</td>\n",
       "      <td>121.551950</td>\n",
       "    </tr>\n",
       "    <tr>\n",
       "      <th>18</th>\n",
       "      <td>Florence</td>\n",
       "      <td>0.0</td>\n",
       "      <td>103.284100</td>\n",
       "    </tr>\n",
       "    <tr>\n",
       "      <th>19</th>\n",
       "      <td>Norman</td>\n",
       "      <td>0.0</td>\n",
       "      <td>134.764350</td>\n",
       "    </tr>\n",
       "    <tr>\n",
       "      <th>20</th>\n",
       "      <td>Beverly</td>\n",
       "      <td>0.0</td>\n",
       "      <td>218.306467</td>\n",
       "    </tr>\n",
       "    <tr>\n",
       "      <th>21</th>\n",
       "      <td>Muskogee</td>\n",
       "      <td>0.0</td>\n",
       "      <td>110.649150</td>\n",
       "    </tr>\n",
       "    <tr>\n",
       "      <th>22</th>\n",
       "      <td>Morristown</td>\n",
       "      <td>0.0</td>\n",
       "      <td>262.603871</td>\n",
       "    </tr>\n",
       "    <tr>\n",
       "      <th>23</th>\n",
       "      <td>Madison</td>\n",
       "      <td>0.0</td>\n",
       "      <td>112.365520</td>\n",
       "    </tr>\n",
       "    <tr>\n",
       "      <th>24</th>\n",
       "      <td>Broken Arrow</td>\n",
       "      <td>0.0</td>\n",
       "      <td>115.104520</td>\n",
       "    </tr>\n",
       "    <tr>\n",
       "      <th>25</th>\n",
       "      <td>Minneapolis</td>\n",
       "      <td>0.0</td>\n",
       "      <td>296.721070</td>\n",
       "    </tr>\n",
       "    <tr>\n",
       "      <th>26</th>\n",
       "      <td>Mobile</td>\n",
       "      <td>0.0</td>\n",
       "      <td>197.802655</td>\n",
       "    </tr>\n",
       "  </tbody>\n",
       "</table>\n",
       "</div>"
      ],
      "text/plain": [
       "              City  Discount      Profit\n",
       "0          Atlanta       0.0  179.324690\n",
       "1          Roswell       0.0  134.857517\n",
       "2         Appleton       0.0  277.383150\n",
       "3      Saint Cloud       0.0  156.538000\n",
       "4        Vacaville       0.0  110.052800\n",
       "5     Saint Peters       0.0  146.403600\n",
       "6       Washington       0.0  105.958930\n",
       "7          Warwick       0.0  212.759120\n",
       "8   Virginia Beach       0.0  126.555231\n",
       "9     Harrisonburg       0.0  127.074843\n",
       "10    Independence       0.0  487.831500\n",
       "11    Indianapolis       0.0  119.202339\n",
       "12       Jamestown       0.0  642.885750\n",
       "13         Kenosha       0.0  114.230311\n",
       "14       Lafayette       0.0  323.173794\n",
       "15       Greenwood       0.0  117.933050\n",
       "16         Dubuque       0.0  159.224800\n",
       "17          Edmond       0.0  121.551950\n",
       "18        Florence       0.0  103.284100\n",
       "19          Norman       0.0  134.764350\n",
       "20         Beverly       0.0  218.306467\n",
       "21        Muskogee       0.0  110.649150\n",
       "22      Morristown       0.0  262.603871\n",
       "23         Madison       0.0  112.365520\n",
       "24    Broken Arrow       0.0  115.104520\n",
       "25     Minneapolis       0.0  296.721070\n",
       "26          Mobile       0.0  197.802655"
      ]
     },
     "execution_count": 49,
     "metadata": {},
     "output_type": "execute_result"
    }
   ],
   "source": [
    "# Cities with low Average discount but High Average profit\n",
    "\n",
    "merged6= pd.merge(low_dist, high_profit, on='City', how='inner')\n",
    "merged6"
   ]
  },
  {
   "cell_type": "markdown",
   "id": "8c2bdfe4",
   "metadata": {},
   "source": [
    "### **Important Insight:-** Here are the 27 cities, where the company is not at all providing any discount, yet these cities are generating good amount of profit. Hence more and more care is to be taken and investments are to be made in these kinds of Hot-Spots!"
   ]
  },
  {
   "cell_type": "markdown",
   "id": "a2465cd6",
   "metadata": {},
   "source": [
    "# Conclusion\n",
    "\n",
    "## Conidering the above insights, if the company follows the suggestions provided throughout the above analysis, it is sure to improve the sales as well as the profit while cutting out on some losses."
   ]
  }
 ],
 "metadata": {
  "kernelspec": {
   "display_name": "Python 3 (ipykernel)",
   "language": "python",
   "name": "python3"
  },
  "language_info": {
   "codemirror_mode": {
    "name": "ipython",
    "version": 3
   },
   "file_extension": ".py",
   "mimetype": "text/x-python",
   "name": "python",
   "nbconvert_exporter": "python",
   "pygments_lexer": "ipython3",
   "version": "3.9.7"
  }
 },
 "nbformat": 4,
 "nbformat_minor": 5
}
